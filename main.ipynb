{
 "cells": [
  {
   "cell_type": "code",
   "execution_count": 60,
   "metadata": {},
   "outputs": [],
   "source": [
    "# importing libraries\n",
    "import pandas as pd\n",
    "import numpy as np\n",
    "import matplotlib.pyplot as plt"
   ]
  },
  {
   "cell_type": "code",
   "execution_count": 4,
   "metadata": {},
   "outputs": [
    {
     "data": {
      "text/html": [
       "<div>\n",
       "<style scoped>\n",
       "    .dataframe tbody tr th:only-of-type {\n",
       "        vertical-align: middle;\n",
       "    }\n",
       "\n",
       "    .dataframe tbody tr th {\n",
       "        vertical-align: top;\n",
       "    }\n",
       "\n",
       "    .dataframe thead th {\n",
       "        text-align: right;\n",
       "    }\n",
       "</style>\n",
       "<table border=\"1\" class=\"dataframe\">\n",
       "  <thead>\n",
       "    <tr style=\"text-align: right;\">\n",
       "      <th></th>\n",
       "      <th>type</th>\n",
       "      <th>title</th>\n",
       "      <th>director</th>\n",
       "      <th>cast</th>\n",
       "      <th>country</th>\n",
       "      <th>date_added</th>\n",
       "      <th>release_year</th>\n",
       "      <th>rating</th>\n",
       "      <th>duration</th>\n",
       "      <th>listed_in</th>\n",
       "      <th>description</th>\n",
       "    </tr>\n",
       "    <tr>\n",
       "      <th>show_id</th>\n",
       "      <th></th>\n",
       "      <th></th>\n",
       "      <th></th>\n",
       "      <th></th>\n",
       "      <th></th>\n",
       "      <th></th>\n",
       "      <th></th>\n",
       "      <th></th>\n",
       "      <th></th>\n",
       "      <th></th>\n",
       "      <th></th>\n",
       "    </tr>\n",
       "  </thead>\n",
       "  <tbody>\n",
       "    <tr>\n",
       "      <th>s1</th>\n",
       "      <td>Movie</td>\n",
       "      <td>Dick Johnson Is Dead</td>\n",
       "      <td>Kirsten Johnson</td>\n",
       "      <td>NaN</td>\n",
       "      <td>United States</td>\n",
       "      <td>25-Sep-21</td>\n",
       "      <td>2020</td>\n",
       "      <td>PG-13</td>\n",
       "      <td>90 min</td>\n",
       "      <td>Documentaries</td>\n",
       "      <td>As her father nears the end of his life, filmm...</td>\n",
       "    </tr>\n",
       "    <tr>\n",
       "      <th>s2</th>\n",
       "      <td>TV Show</td>\n",
       "      <td>Blood &amp; Water</td>\n",
       "      <td>NaN</td>\n",
       "      <td>Ama Qamata, Khosi Ngema, Gail Mabalane, Thaban...</td>\n",
       "      <td>South Africa</td>\n",
       "      <td>24-Sep-21</td>\n",
       "      <td>2021</td>\n",
       "      <td>TV-MA</td>\n",
       "      <td>2 Seasons</td>\n",
       "      <td>International TV Shows, TV Dramas, TV Mysteries</td>\n",
       "      <td>After crossing paths at a party, a Cape Town t...</td>\n",
       "    </tr>\n",
       "    <tr>\n",
       "      <th>s3</th>\n",
       "      <td>TV Show</td>\n",
       "      <td>Ganglands</td>\n",
       "      <td>Julien Leclercq</td>\n",
       "      <td>Sami Bouajila, Tracy Gotoas, Samuel Jouy, Nabi...</td>\n",
       "      <td>NaN</td>\n",
       "      <td>24-Sep-21</td>\n",
       "      <td>2021</td>\n",
       "      <td>TV-MA</td>\n",
       "      <td>1 Season</td>\n",
       "      <td>Crime TV Shows, International TV Shows, TV Act...</td>\n",
       "      <td>To protect his family from a powerful drug lor...</td>\n",
       "    </tr>\n",
       "    <tr>\n",
       "      <th>s4</th>\n",
       "      <td>TV Show</td>\n",
       "      <td>Jailbirds New Orleans</td>\n",
       "      <td>NaN</td>\n",
       "      <td>NaN</td>\n",
       "      <td>NaN</td>\n",
       "      <td>24-Sep-21</td>\n",
       "      <td>2021</td>\n",
       "      <td>TV-MA</td>\n",
       "      <td>1 Season</td>\n",
       "      <td>Docuseries, Reality TV</td>\n",
       "      <td>Feuds, flirtations and toilet talk go down amo...</td>\n",
       "    </tr>\n",
       "    <tr>\n",
       "      <th>s5</th>\n",
       "      <td>TV Show</td>\n",
       "      <td>Kota Factory</td>\n",
       "      <td>NaN</td>\n",
       "      <td>Mayur More, Jitendra Kumar, Ranjan Raj, Alam K...</td>\n",
       "      <td>India</td>\n",
       "      <td>24-Sep-21</td>\n",
       "      <td>2021</td>\n",
       "      <td>TV-MA</td>\n",
       "      <td>2 Seasons</td>\n",
       "      <td>International TV Shows, Romantic TV Shows, TV ...</td>\n",
       "      <td>In a city of coaching centers known to train I...</td>\n",
       "    </tr>\n",
       "  </tbody>\n",
       "</table>\n",
       "</div>"
      ],
      "text/plain": [
       "            type                  title         director  \\\n",
       "show_id                                                    \n",
       "s1         Movie   Dick Johnson Is Dead  Kirsten Johnson   \n",
       "s2       TV Show          Blood & Water              NaN   \n",
       "s3       TV Show              Ganglands  Julien Leclercq   \n",
       "s4       TV Show  Jailbirds New Orleans              NaN   \n",
       "s5       TV Show           Kota Factory              NaN   \n",
       "\n",
       "                                                      cast        country  \\\n",
       "show_id                                                                     \n",
       "s1                                                     NaN  United States   \n",
       "s2       Ama Qamata, Khosi Ngema, Gail Mabalane, Thaban...   South Africa   \n",
       "s3       Sami Bouajila, Tracy Gotoas, Samuel Jouy, Nabi...            NaN   \n",
       "s4                                                     NaN            NaN   \n",
       "s5       Mayur More, Jitendra Kumar, Ranjan Raj, Alam K...          India   \n",
       "\n",
       "        date_added  release_year rating   duration  \\\n",
       "show_id                                              \n",
       "s1       25-Sep-21          2020  PG-13     90 min   \n",
       "s2       24-Sep-21          2021  TV-MA  2 Seasons   \n",
       "s3       24-Sep-21          2021  TV-MA   1 Season   \n",
       "s4       24-Sep-21          2021  TV-MA   1 Season   \n",
       "s5       24-Sep-21          2021  TV-MA  2 Seasons   \n",
       "\n",
       "                                                 listed_in  \\\n",
       "show_id                                                      \n",
       "s1                                           Documentaries   \n",
       "s2         International TV Shows, TV Dramas, TV Mysteries   \n",
       "s3       Crime TV Shows, International TV Shows, TV Act...   \n",
       "s4                                  Docuseries, Reality TV   \n",
       "s5       International TV Shows, Romantic TV Shows, TV ...   \n",
       "\n",
       "                                               description  \n",
       "show_id                                                     \n",
       "s1       As her father nears the end of his life, filmm...  \n",
       "s2       After crossing paths at a party, a Cape Town t...  \n",
       "s3       To protect his family from a powerful drug lor...  \n",
       "s4       Feuds, flirtations and toilet talk go down amo...  \n",
       "s5       In a city of coaching centers known to train I...  "
      ]
     },
     "execution_count": 4,
     "metadata": {},
     "output_type": "execute_result"
    }
   ],
   "source": [
    "# read data\n",
    "data = pd.read_csv(\"netflix_titles.csv\", encoding=\"latin1\", index_col=\"show_id\")\n",
    "data.head()"
   ]
  },
  {
   "cell_type": "code",
   "execution_count": 8,
   "metadata": {},
   "outputs": [
    {
     "data": {
      "text/plain": [
       "(8809, 11)"
      ]
     },
     "execution_count": 8,
     "metadata": {},
     "output_type": "execute_result"
    }
   ],
   "source": [
    "data.shape"
   ]
  },
  {
   "cell_type": "code",
   "execution_count": 11,
   "metadata": {},
   "outputs": [
    {
     "name": "stderr",
     "output_type": "stream",
     "text": [
      "C:\\Users\\ahmed_gamal\\AppData\\Local\\Temp\\ipykernel_7236\\1202917360.py:1: UserWarning: Could not infer format, so each element will be parsed individually, falling back to `dateutil`. To ensure parsing is consistent and as-expected, please specify a format.\n",
      "  data[\"date_added\"] = pd.to_datetime(data[\"date_added\"])\n"
     ]
    }
   ],
   "source": [
    "data[\"date_added\"] = pd.to_datetime(data[\"date_added\"])"
   ]
  },
  {
   "cell_type": "code",
   "execution_count": 36,
   "metadata": {},
   "outputs": [
    {
     "name": "stdout",
     "output_type": "stream",
     "text": [
      "<class 'pandas.core.frame.DataFrame'>\n",
      "Index: 8809 entries, s1 to s8809\n",
      "Data columns (total 11 columns):\n",
      " #   Column        Non-Null Count  Dtype         \n",
      "---  ------        --------------  -----         \n",
      " 0   type          8809 non-null   object        \n",
      " 1   title         8809 non-null   object        \n",
      " 2   director      6175 non-null   object        \n",
      " 3   cast          7984 non-null   object        \n",
      " 4   country       7978 non-null   object        \n",
      " 5   date_added    8799 non-null   datetime64[ns]\n",
      " 6   release_year  8809 non-null   int64         \n",
      " 7   rating        8805 non-null   object        \n",
      " 8   duration      8806 non-null   object        \n",
      " 9   listed_in     8809 non-null   object        \n",
      " 10  description   8809 non-null   object        \n",
      "dtypes: datetime64[ns](1), int64(1), object(9)\n",
      "memory usage: 1.1+ MB\n"
     ]
    }
   ],
   "source": [
    "data.info()"
   ]
  },
  {
   "cell_type": "code",
   "execution_count": 37,
   "metadata": {},
   "outputs": [
    {
     "data": {
      "text/plain": [
       "type\n",
       "Movie      6132\n",
       "TV Show    2677\n",
       "Name: count, dtype: int64"
      ]
     },
     "execution_count": 37,
     "metadata": {},
     "output_type": "execute_result"
    }
   ],
   "source": [
    "data[\"type\"].value_counts()"
   ]
  },
  {
   "cell_type": "code",
   "execution_count": 38,
   "metadata": {},
   "outputs": [
    {
     "data": {
      "text/plain": [
       "director\n",
       "Rajiv Chilaka                     19\n",
       "RaÃºl Campos, Jan Suter           18\n",
       "Marcus Raboy                      16\n",
       "Suhas Kadav                       16\n",
       "Jay Karas                         14\n",
       "                                  ..\n",
       "Raymie Muzquiz, Stu Livingston     1\n",
       "Joe Menendez                       1\n",
       "Eric Bross                         1\n",
       "Will Eisenberg                     1\n",
       "Yeon Sang-ho                       1\n",
       "Name: count, Length: 4529, dtype: int64"
      ]
     },
     "execution_count": 38,
     "metadata": {},
     "output_type": "execute_result"
    }
   ],
   "source": [
    "data[\"director\"].value_counts()"
   ]
  },
  {
   "cell_type": "code",
   "execution_count": 39,
   "metadata": {},
   "outputs": [
    {
     "data": {
      "text/plain": [
       "rating\n",
       "TV-MA       3208\n",
       "TV-14       2160\n",
       "TV-PG        863\n",
       "R            799\n",
       "PG-13        490\n",
       "TV-Y7        334\n",
       "TV-Y         307\n",
       "PG           287\n",
       "TV-G         220\n",
       "NR            80\n",
       "G             41\n",
       "TV-Y7-FV       6\n",
       "NC-17          3\n",
       "UR             3\n",
       "74 min         1\n",
       "84 min         1\n",
       "66 min         1\n",
       "A              1\n",
       "Name: count, dtype: int64"
      ]
     },
     "execution_count": 39,
     "metadata": {},
     "output_type": "execute_result"
    }
   ],
   "source": [
    "data[\"rating\"].value_counts()"
   ]
  },
  {
   "cell_type": "code",
   "execution_count": 41,
   "metadata": {},
   "outputs": [
    {
     "name": "stdout",
     "output_type": "stream",
     "text": [
      "this column type is contain 0 Null\n",
      "this column title is contain 0 Null\n",
      "this column director is contain 2634 Null\n",
      "this column cast is contain 825 Null\n",
      "this column country is contain 831 Null\n",
      "this column date_added is contain 10 Null\n",
      "this column release_year is contain 0 Null\n",
      "this column rating is contain 4 Null\n",
      "this column duration is contain 3 Null\n",
      "this column listed_in is contain 0 Null\n",
      "this column description is contain 0 Null\n"
     ]
    }
   ],
   "source": [
    "for col in data.columns:\n",
    "    print(f\"this column {col} is contain {data[col].isna().sum()} Null\")"
   ]
  },
  {
   "cell_type": "code",
   "execution_count": 43,
   "metadata": {},
   "outputs": [
    {
     "data": {
      "text/plain": [
       "Index(['type', 'title', 'director', 'cast', 'country', 'date_added',\n",
       "       'release_year', 'rating', 'duration', 'listed_in', 'description'],\n",
       "      dtype='object')"
      ]
     },
     "execution_count": 43,
     "metadata": {},
     "output_type": "execute_result"
    }
   ],
   "source": [
    "data.columns"
   ]
  },
  {
   "cell_type": "code",
   "execution_count": 44,
   "metadata": {},
   "outputs": [
    {
     "name": "stdout",
     "output_type": "stream",
     "text": [
      "unique values in this column is type is contain \n",
      " ['Movie' 'TV Show']\n",
      "unique values in this column is country is contain \n",
      " ['United States' 'South Africa' nan 'India'\n",
      " 'United States, Ghana, Burkina Faso, United Kingdom, Germany, Ethiopia'\n",
      " 'United Kingdom' 'Germany, Czech Republic' 'Mexico' 'Turkey' 'Australia'\n",
      " 'United States, India, France' 'Finland' 'China, Canada, United States'\n",
      " 'South Africa, United States, Japan' 'Nigeria' 'Japan'\n",
      " 'Spain, United States' 'France' 'Belgium' 'United Kingdom, United States'\n",
      " 'United States, United Kingdom' 'France, United States' 'South Korea'\n",
      " 'Spain' 'United States, Singapore' 'United Kingdom, Australia, France'\n",
      " 'United Kingdom, Australia, France, United States'\n",
      " 'United States, Canada' 'Germany, United States'\n",
      " 'South Africa, United States' 'United States, Mexico'\n",
      " 'United States, Italy, France, Japan'\n",
      " 'United States, Italy, Romania, United Kingdom'\n",
      " 'Australia, United States' 'Argentina, Venezuela'\n",
      " 'United States, United Kingdom, Canada' 'China, Hong Kong' 'Russia'\n",
      " 'Canada' 'Hong Kong' 'United States, China, Hong Kong'\n",
      " 'Italy, United States' 'United States, Germany'\n",
      " 'United Kingdom, Canada, United States' ', South Korea' 'Ireland'\n",
      " 'India, Nepal' 'New Zealand, Australia, France, United States' 'Italy'\n",
      " 'Italy, Brazil, Greece' 'Argentina' 'Jordan' 'Colombia'\n",
      " 'United States, Japan' 'Belgium, United Kingdom'\n",
      " 'Switzerland, United Kingdom, Australia' 'Israel, United States'\n",
      " 'Canada, United States' 'Brazil' 'Argentina, Spain' 'Taiwan'\n",
      " 'United States, Nigeria' 'Bulgaria, United States'\n",
      " 'Spain, United Kingdom, United States' 'United States, China'\n",
      " 'United States, France' 'Spain, France, United Kingdom, United States'\n",
      " ', France, Algeria' 'Poland' 'Germany'\n",
      " 'France, Israel, Germany, United States, United Kingdom' 'New Zealand'\n",
      " 'Saudi Arabia' 'Thailand' 'Indonesia' 'Egypt, Denmark, Germany'\n",
      " 'United States, Switzerland' 'Hong Kong, Canada, United States'\n",
      " 'Kuwait, United States' 'France, Canada, United States, Spain'\n",
      " 'France, Netherlands, Singapore' 'France, Belgium'\n",
      " 'Ireland, United States, United Kingdom' 'Egypt' 'Malaysia' 'Israel'\n",
      " 'Australia, New Zealand' 'United Kingdom, Germany' 'Belgium, Netherlands'\n",
      " 'South Korea, Czech Republic' 'Australia, Germany' 'Vietnam'\n",
      " 'United Kingdom, Belgium' 'United Kingdom, Australia, United States'\n",
      " 'France, Japan, United States'\n",
      " 'United Kingdom, Germany, Spain, United States'\n",
      " 'United Kingdom, United States, France, Italy'\n",
      " 'United States, Germany, Canada'\n",
      " 'United States, France, Italy, United Kingdom'\n",
      " 'United States, United Kingdom, Germany, Hungary'\n",
      " 'United States, New Zealand' 'Sweden' 'China' 'Lebanon' 'Romania'\n",
      " 'Finland, Germany' 'Lebanon, Syria' 'Philippines' 'Iceland' 'Denmark'\n",
      " 'United States, India' 'Philippines, Singapore, Indonesia'\n",
      " 'China, United States, Canada' 'Lebanon, United Arab Emirates'\n",
      " 'Canada, United States, Denmark' 'United Arab Emirates'\n",
      " 'Mexico, France, Colombia' 'Netherlands' 'Germany, United States, France'\n",
      " 'United States, Bulgaria'\n",
      " 'United Kingdom, France, Germany, United States' 'Norway, Denmark'\n",
      " 'Syria, France, Lebanon, Qatar' 'United States, Czech Republic'\n",
      " 'Mauritius' 'Canada, South Africa' 'Austria' 'Mexico, Brazil'\n",
      " 'Germany, France' 'Mexico, United States'\n",
      " 'United Kingdom, France, Spain, United States' 'United States, Australia'\n",
      " 'United States, United Kingdom, France' 'United States, Russia'\n",
      " 'United States, United Kingdom, New Zealand' 'Australia, United Kingdom'\n",
      " 'Canada, Nigeria, United States'\n",
      " 'France, United States, United Kingdom, Canada' 'France, United Kingdom'\n",
      " 'India, United Kingdom' 'Canada, United States, Mexico'\n",
      " 'United Kingdom, Germany, United States'\n",
      " 'Czech Republic, United Kingdom, United States' 'China, United Kingdom'\n",
      " 'Italy, United Kingdom' 'China, Taiwan'\n",
      " 'United States, Brazil, Japan, Spain, India'\n",
      " 'United States, China, United Kingdom' 'Cameroon'\n",
      " 'Lebanon, Palestine, Denmark, Qatar' 'Japan, United States'\n",
      " 'Uruguay, Germany' 'Egypt, Saudi Arabia'\n",
      " 'United Kingdom, France, Poland, Germany, United States'\n",
      " 'Ireland, Switzerland, United Kingdom, France, United States'\n",
      " 'United Kingdom, South Africa, France'\n",
      " 'Ireland, United Kingdom, France, Germany' 'Russia, United States'\n",
      " 'United Kingdom, United States, France' 'United Kingdom,'\n",
      " 'United States, India, United Kingdom' 'Kenya' 'Spain, Argentina'\n",
      " 'India, United Kingdom, France, Qatar' 'Belgium, France'\n",
      " 'Argentina, Chile' 'United States, Thailand' 'Chile, Brazil'\n",
      " 'United States, Colombia' 'Canada, United States, United Kingdom'\n",
      " 'Uruguay' 'Luxembourg' 'United States, Cambodia, Romania' 'Bangladesh'\n",
      " 'Spain, Belgium, United States'\n",
      " 'United Kingdom, United States, Australia'\n",
      " 'Canada, United States, France' 'Portugal, United States'\n",
      " 'Portugal, Spain' 'India, United States' 'United Kingdom, Ireland'\n",
      " 'United Kingdom, Spain, United States' 'Hungary, United States'\n",
      " 'United States, South Korea' 'Canada, United States, Cayman Islands'\n",
      " 'India, France' 'France, Canada' 'Canada, Hungary, United States'\n",
      " 'Norway' 'Canada, United Kingdom, United States'\n",
      " 'United Kingdom, Germany, France, United States' 'Denmark, United States'\n",
      " 'Senegal' 'France, Algeria'\n",
      " 'United Kingdom, Finland, Germany, United States, Australia, Japan, France, Ireland'\n",
      " 'Philippines, Canada, United Kingdom, United States'\n",
      " 'Ireland, France, Iceland, United States, Mexico, Belgium, United Kingdom, Hong Kong'\n",
      " 'Singapore' 'Kuwait' 'United States, France, Serbia'\n",
      " 'United States, Italy' 'Spain, Italy'\n",
      " 'United States, Ireland, United Kingdom, India'\n",
      " 'United Kingdom, Singapore' 'Hong Kong, United States'\n",
      " 'United States, Malta, France, United Kingdom'\n",
      " 'United States, China, Canada' 'Canada, United States, Ireland'\n",
      " 'Lebanon, Canada, France' 'Japan, Canada, United States'\n",
      " 'Spain, France, Canada' 'Denmark, Singapore, Canada, United States'\n",
      " 'United States, France, Denmark' 'United States, China, Colombia'\n",
      " 'Spain, Thailand, United States' 'Mexico, Spain'\n",
      " 'Ireland, Luxembourg, Belgium' 'China, United States' 'Canada, Belgium'\n",
      " 'Canada, United Kingdom'\n",
      " 'Lebanon, United Arab Emirates, France, Switzerland, Germany'\n",
      " 'France, Belgium, Italy' 'Lebanon, United States, United Arab Emirates'\n",
      " 'Lebanon, France' 'France, Lebanon' 'France, Lebanon, United Kingdom'\n",
      " 'France, Norway, Lebanon, Belgium'\n",
      " 'Sweden, Czech Republic, United Kingdom, Denmark, Netherlands'\n",
      " 'United States, United Kingdom, India' 'Indonesia, Netherlands'\n",
      " 'Turkey, South Korea' 'Serbia, United States' 'Namibia'\n",
      " 'United Kingdom, Kenya' 'United Kingdom, France, Germany, Spain'\n",
      " 'United Kingdom, France, United States, Belgium, Luxembourg, China, Germany'\n",
      " 'Thailand, United States' 'United States, France, Canada, Belgium'\n",
      " 'United Kingdom, China' 'Germany, China, United Kingdom'\n",
      " 'Australia, New Zealand, United States'\n",
      " 'Hong Kong, Iceland, United States' 'France, Australia, Germany'\n",
      " 'United States, Belgium, Canada, France' 'South Africa, Angola'\n",
      " 'United States, Philippines'\n",
      " 'United States, United Kingdom, Canada, China'\n",
      " 'United States, Canada, United Kingdom' 'Turkey, United States'\n",
      " 'Peru, Germany, Norway' 'Mozambique' 'Brazil, France'\n",
      " 'China, Spain, South Korea, United States' 'Spain, Germany'\n",
      " 'Hong Kong, China' 'France, Belgium, Luxembourg, Cambodia,'\n",
      " 'United Kingdom, Australia' 'Belarus' 'Indonesia, United Kingdom'\n",
      " 'Switzerland, France, Belgium, United States' 'Ghana'\n",
      " 'Spain, France, Canada, United States' 'Chile, Italy'\n",
      " 'United Kingdom, Nigeria' 'Chile' 'France, Egypt' 'Egypt, France'\n",
      " 'France, Brazil, Spain, Belgium' 'Egypt, Algeria'\n",
      " 'Canada, South Korea, United States' 'Nigeria, United Kingdom'\n",
      " 'United States, France, Canada' 'Poland, United States'\n",
      " 'United Arab Emirates, Jordan, Lebanon, Saudi Arabia'\n",
      " 'United States, Mexico, Spain, Malta'\n",
      " 'Saudi Arabia, United Arab Emirates' 'Zimbabwe'\n",
      " 'United Kingdom, Germany, United Arab Emirates, New Zealand'\n",
      " 'Romania, United States' 'Canada, Nigeria'\n",
      " 'Saudi Arabia, Netherlands, Germany, Jordan, United Arab Emirates, United States'\n",
      " 'United Kingdom, Spain' 'Finland, France'\n",
      " 'United Kingdom, Germany, United States, France'\n",
      " 'India, United Kingdom, China, Canada, Japan, South Korea, United States'\n",
      " 'Italy, United Kingdom, France' 'United States, Mexico, Colombia'\n",
      " 'Turkey, India' 'Italy, Turkey' 'United Kingdom, United States, Japan'\n",
      " 'France, Belgium, United States' 'Puerto Rico, United States, Colombia'\n",
      " 'Uruguay, Argentina' 'United States, United Kingdom, Japan'\n",
      " 'United States, Argentina' 'United Kingdom, Italy'\n",
      " 'Ireland, United Kingdom'\n",
      " 'United Kingdom, France, Belgium, Canada, United States'\n",
      " 'Netherlands, Germany, Denmark, United Kingdom' 'Hungary'\n",
      " 'Austria, Germany' 'Taiwan, China'\n",
      " 'United Kingdom, United States, Ireland' 'South Korea, United States'\n",
      " 'Brazil, United Kingdom' 'Pakistan, United States'\n",
      " 'Romania, France, Switzerland, Germany' 'Romania, United Kingdom'\n",
      " 'France, Malta, United States' 'Cyprus'\n",
      " 'United Kingdom, France, Belgium, Ireland, United States'\n",
      " 'United States, Norway, Canada' 'Kenya, United States'\n",
      " 'France, South Korea, Japan, United States' 'Taiwan, Malaysia'\n",
      " 'Uruguay, Argentina, Germany, Spain'\n",
      " 'United States, United Kingdom, France, Germany, Japan'\n",
      " 'United States, France, Japan' 'United Kingdom, France, United States'\n",
      " 'Spain, France, United States' 'Indonesia, South Korea, Singapore'\n",
      " 'United States, Spain' 'Netherlands, Germany, Italy, Canada'\n",
      " 'Spain, Germany, Denmark, United States' 'Norway, Sweden'\n",
      " 'South Korea, Canada, United States, China' 'Argentina, Uruguay, Serbia'\n",
      " 'France, Japan' 'Mauritius, South Africa' 'United States, Poland'\n",
      " 'United Kingdom, United States, Germany, Denmark, Belgium, Japan'\n",
      " 'India, Germany' 'India, United Kingdom, Canada, United States'\n",
      " 'Philippines, United States' 'Romania, Bulgaria, Hungary'\n",
      " 'Uruguay, Guatemala' 'France, Senegal, Belgium' 'United Kingdom, Canada'\n",
      " 'Mexico, United States, Spain, Colombia' 'Canada, Norway'\n",
      " 'Singapore, United States' 'Finland, Germany, Belgium'\n",
      " 'United Kingdom, France' 'United States, Chile'\n",
      " 'United Kingdom, Japan, United States' 'Spain, United Kingdom'\n",
      " 'Argentina, United States, Mexico' 'United States, South Korea, Japan'\n",
      " 'Canada, Australia' 'United Kingdom, Hungary, Australia' 'Italy, Belgium'\n",
      " 'United States, United Kingdom, Germany' 'Switzerland'\n",
      " 'Singapore, Malaysia'\n",
      " 'France, Belgium, Luxembourg, Romania, Canada, United States'\n",
      " 'South Africa, Nigeria' 'Spain, France' 'United Kingdom, Hong Kong'\n",
      " 'Pakistan' 'Brazil, United States'\n",
      " 'Denmark, Brazil, France, Portugal, Sweden' 'India, Turkey'\n",
      " 'Malaysia, Singapore, Hong Kong' 'Philippines, Singapore'\n",
      " 'Australia, Canada' 'Taiwan, China, France, United States'\n",
      " 'Germany, Italy' 'Colombia, Peru, United Kingdom'\n",
      " 'Thailand, China, United States' 'Argentina, United States'\n",
      " 'Sweden, United States' 'Uruguay, Spain, Mexico'\n",
      " 'France, Luxembourg, Canada' 'Denmark, Spain' 'Chile, Argentina'\n",
      " 'United Kingdom, Belgium, Sweden' 'Canada, Brazil' 'Italy, France'\n",
      " 'Canada, Germany' 'Pakistan, United Arab Emirates' 'Ghana, United States'\n",
      " 'Mexico, Finland' 'United Arab Emirates, United Kingdom, India'\n",
      " 'Netherlands, Belgium' 'United States, Taiwan'\n",
      " 'Austria, Iraq, United States' 'United Kingdom, Malawi'\n",
      " 'Paraguay, Argentina' 'United Kingdom, Russia, United States'\n",
      " 'India, Pakistan' 'Indonesia, Singapore' 'Spain, Belgium'\n",
      " 'Iceland, Sweden, Belgium' 'Croatia' 'Uruguay, Argentina, Spain'\n",
      " 'United Kingdom, Ireland, United States'\n",
      " 'Canada, Germany, France, United States' 'United Kingdom, Japan'\n",
      " 'Norway, Denmark, Netherlands, Sweden' 'Hong Kong, China, United States'\n",
      " 'Ireland, Canada' 'Italy, Switzerland, France, Germany'\n",
      " 'Mexico, Netherlands' 'United States, Sweden' 'Germany, France, Russia'\n",
      " 'France, Iran, United States' 'United Kingdom, India'\n",
      " 'Russia, Poland, Serbia' 'Spain, Portugal' 'Peru' 'Mexico, Argentina'\n",
      " 'United Kingdom, Canada, United States, Cayman Islands'\n",
      " 'Indonesia, United States'\n",
      " 'United States, Israel, United Kingdom, Canada'\n",
      " 'Norway, Iceland, United States' 'Czech Republic, United States'\n",
      " 'United Kingdom, India, United States' 'United Kingdom, West Germany'\n",
      " 'India, Australia' 'United States,'\n",
      " 'Belgium, United Kingdom, United States' 'India, Germany, Austria'\n",
      " 'United States, Brazil, South Korea, Mexico, Japan, Germany'\n",
      " 'Spain, Mexico' 'China, Japan' 'Argentina, France'\n",
      " 'China, United States, United Kingdom'\n",
      " 'France, Luxembourg, United States' 'China, United States, Australia'\n",
      " 'Colombia, Mexico' 'United States, Canada, Ireland' 'Chile, Peru'\n",
      " 'Argentina, Italy' 'Canada, Japan, United States'\n",
      " 'United Kingdom, Canada, United States, Germany'\n",
      " 'Italy, Switzerland, Albania, Poland' 'United States, Japan, Canada'\n",
      " 'Cambodia' 'Italy, United States, Argentina'\n",
      " 'Saudi Arabia, Syria, Egypt, Lebanon, Kuwait'\n",
      " 'United States, Canada, Indonesia, United Kingdom, China, Singapore'\n",
      " 'Spain, Colombia'\n",
      " 'United Kingdom, South Africa, Australia, United States' 'Bulgaria'\n",
      " 'Argentina, Brazil, France, Poland, Germany, Denmark'\n",
      " 'United Kingdom, Spain, United States, Germany' 'Philippines, Qatar'\n",
      " 'Netherlands, Belgium, Germany, Jordan'\n",
      " 'United Arab Emirates, United States' 'Norway, Germany, Sweden'\n",
      " 'South Korea, China' 'Georgia' 'Soviet Union, India'\n",
      " 'Australia, United Arab Emirates' 'Canada, Germany, South Africa'\n",
      " 'South Korea, China, United States' 'India, Soviet Union' 'India, Mexico'\n",
      " 'Georgia, Germany, France' 'United Arab Emirates, Romania'\n",
      " 'India, Malaysia' 'Germany, Jordan, Netherlands'\n",
      " 'Turkey, France, Germany, Poland' 'Greece, United States'\n",
      " 'France, United Kingdom, United States' 'Norway, Germany'\n",
      " 'France, Morocco' 'Cambodia, United States' 'United States, Denmark'\n",
      " 'United States, Colombia, Mexico'\n",
      " 'United Kingdom, Italy, Israel, Peru, United States'\n",
      " 'Argentina, Uruguay, Spain, France'\n",
      " 'United Kingdom, France, United States, Belgium'\n",
      " 'France, Canada, China, Cambodia'\n",
      " 'United Kingdom, France, Belgium, United States' 'Chile, France'\n",
      " 'Netherlands, United States' 'France, United Kingdom, India'\n",
      " 'Czech Republic, Slovakia' 'Singapore, France' 'Spain, Switzerland'\n",
      " 'United States, Australia, China' 'South Africa, United States, Germany'\n",
      " 'United States, United Kingdom, Australia' 'Spain, Italy, Argentina'\n",
      " 'Chile, Spain, Argentina, Germany' 'West Germany'\n",
      " 'Austria, Czech Republic' 'Lebanon, Qatar'\n",
      " 'United Kingdom, Jordan, Qatar, Iran' 'France, South Korea, Japan'\n",
      " 'Israel, Germany, France' 'Canada, Japan, Netherlands'\n",
      " 'United States, Hungary' 'France, Germany' 'France, Qatar'\n",
      " 'United Kingdom, Germany, Canada' 'Ireland, South Africa'\n",
      " 'Chile, United States, France' 'Belgium, France, Netherlands'\n",
      " 'United Kingdom, Ukraine, United States'\n",
      " 'Germany, Australia, France, China' 'Norway, United States'\n",
      " 'United States, Bermuda, Ecuador'\n",
      " 'United States, Hungary, Ireland, Canada'\n",
      " 'United Kingdom, Egypt, United States'\n",
      " 'United States, France, United Kingdom' 'Spain, Mexico, France'\n",
      " 'United States, South Africa' 'Hong Kong, China, Singapore'\n",
      " 'South Africa, China, United States' 'Denmark, France, Poland'\n",
      " 'New Zealand, United Kingdom' 'Netherlands, Denmark, South Africa'\n",
      " 'Iran, France' 'United Kingdom, United States, France, Germany'\n",
      " 'Australia, France' 'Ireland, United Kingdom, United States'\n",
      " 'United Kingdom, France, Germany' 'Canada, Luxembourg'\n",
      " 'Brazil, Netherlands, United States, Colombia, Austria, Germany'\n",
      " 'France, Canada, Belgium' 'Canada, France'\n",
      " 'Bulgaria, United States, Spain, Canada' 'Sweden, Netherlands'\n",
      " 'France, United States, Mexico'\n",
      " 'Australia, United Kingdom, United Arab Emirates, Canada'\n",
      " 'Australia, Armenia, Japan, Jordan, Mexico, Mongolia, New Zealand, Philippines, South Africa, Sweden, United States, Uruguay'\n",
      " 'India, Iran' 'France, Belgium, Spain'\n",
      " 'Denmark, Sweden, Israel, United States' 'United States, Iceland'\n",
      " 'United Kingdom, Russia' 'United States, Israel, Italy, South Africa'\n",
      " 'Netherlands, Denmark, France, Germany' 'South Korea, Japan'\n",
      " 'United Kingdom, Pakistan' 'France, New Zealand'\n",
      " 'United Kingdom, Czech Republic, United States, Germany, Bahamas'\n",
      " 'China, Germany, India, United States' 'Germany, Sri Lanka'\n",
      " 'United States, India, Bangladesh' 'United States, Canada, France'\n",
      " 'Brazil, France, Germany' 'Germany, United States, Hong Kong, Singapore'\n",
      " 'France, Germany, Switzerland'\n",
      " 'Germany, France, Luxembourg, United Kingdom, United States'\n",
      " 'United Kingdom, Canada, Italy' 'Czech Republic, France'\n",
      " 'Taiwan, Hong Kong, United States, China' 'Germany, Australia'\n",
      " 'United Kingdom, Poland, United States' 'Denmark, Zimbabwe'\n",
      " 'United Kingdom, South Africa' 'Finland, Sweden, Norway, Latvia, Germany'\n",
      " 'South Africa, United States, New Zealand, Canada'\n",
      " 'United States, Italy, United Kingdom, Liechtenstein'\n",
      " 'Denmark, France, Belgium, Italy, Netherlands, United States, United Kingdom'\n",
      " 'United States, Australia, Mexico'\n",
      " 'United Kingdom, Czech Republic, Germany, United States'\n",
      " 'France, China, Japan, United States' 'United States, South Korea, China'\n",
      " 'Germany, Belgium' 'Pakistan, Norway, United States'\n",
      " 'United States, Canada, Belgium, United Kingdom' 'Venezuela'\n",
      " 'Canada, France, Italy, Morocco, United States' 'Canada, Spain, France'\n",
      " 'United States, Indonesia' 'Spain, France, Italy'\n",
      " 'United Arab Emirates, United States, United Kingdom'\n",
      " 'United Kingdom, Israel, Russia' 'Spain, Cuba' 'United States, Brazil'\n",
      " 'United States, France, Mexico' 'United States, Nicaragua'\n",
      " 'United Kingdom, United States, Spain, Germany, Greece, Canada'\n",
      " 'Italy, Canada, France' 'United Kingdom, Denmark, Canada, Croatia'\n",
      " 'Italy, Germany' 'United States, France, United Kingdom, Japan'\n",
      " 'United States, United Kingdom, Denmark, Sweden'\n",
      " 'United States, United Kingdom, Italy'\n",
      " 'United States, France, Canada, Spain' 'Russia, United States, China'\n",
      " 'United States, Canada, Germany' 'Ireland, United States'\n",
      " 'United States, United Arab Emirates' 'United States, Ireland'\n",
      " 'Ireland, United Kingdom, Italy, United States' 'Poland,'\n",
      " 'Slovenia, Croatia, Germany, Czech Republic, Qatar'\n",
      " 'Canada, United Kingdom, Netherlands' 'United States, Spain, Germany'\n",
      " 'India, Japan' 'China, South Korea, United States'\n",
      " 'United Kingdom, France, Belgium' 'Canada, Ireland, United States'\n",
      " 'United Kingdom, United States, Dominican Republic'\n",
      " 'United States, Senegal' 'Germany, United Kingdom, United States'\n",
      " 'South Africa, Germany, Netherlands, France'\n",
      " 'Canada, United States, United Kingdom, France, Luxembourg'\n",
      " 'Ireland, United States, France' 'Germany, United States, Canada'\n",
      " 'United Kingdom, Germany, Canada, United States'\n",
      " 'United States, France, Canada, Lebanon, Qatar'\n",
      " 'Netherlands, Belgium, United Kingdom, United States'\n",
      " 'France, Belgium, China, United States' 'United States, Chile, Israel'\n",
      " 'United Kingdom, Norway, Denmark, Germany, Sweden'\n",
      " 'Norway, Denmark, Sweden' 'China, India, Nepal'\n",
      " 'Colombia, Mexico, United States' 'United Kingdom, South Korea'\n",
      " 'Denmark, China' 'United States, Greece, Brazil' 'South Korea, France'\n",
      " 'United States, Australia, Samoa, United Kingdom'\n",
      " 'Germany, United Kingdom' 'Argentina, Chile, Peru' 'Turkey, Azerbaijan'\n",
      " 'Poland, West Germany' 'Germany, United States, Sweden' 'Canada, Spain'\n",
      " 'United States, Cambodia' 'United States, Greece'\n",
      " 'Norway, United Kingdom, France, Ireland' 'United Kingdom, Poland'\n",
      " 'Israel, Sweden, Germany, Netherlands' 'Switzerland, France'\n",
      " 'Italy, India' 'United States, Botswana'\n",
      " 'Chile, Argentina, France, Spain, United States'\n",
      " 'United States, India, South Korea, China'\n",
      " 'Denmark, Germany, Belgium, United Kingdom, France'\n",
      " 'Denmark, Germany, Belgium, United Kingdom, France, Sweden'\n",
      " 'France, Switzerland, Spain, United States, United Arab Emirates'\n",
      " 'Brazil, India, China, United States'\n",
      " 'Denmark, France, United States, Sweden' 'Australia, Iraq'\n",
      " 'China, Morocco, Hong Kong' 'Canada, United States, Germany'\n",
      " 'United Kingdom, Thailand' 'Venezuela, Colombia'\n",
      " 'Colombia, United States' 'France, Germany, Czech Republic, Belgium'\n",
      " 'Switzerland, Vatican City, Italy, Germany, France'\n",
      " 'Portugal, France, Poland, United States'\n",
      " 'United States, New Zealand, Japan'\n",
      " 'United States, Netherlands, Japan, France' 'India, Switzerland'\n",
      " 'Canada, India' 'United States, Morocco' 'Singapore, Japan, France'\n",
      " 'Canada, Mexico, Germany, South Africa'\n",
      " 'United Kingdom, United States, Canada'\n",
      " 'Germany, France, United States, Canada, United Kingdom'\n",
      " 'United States, Uruguay' 'India, Canada'\n",
      " 'Ireland, Canada, United Kingdom, United States'\n",
      " 'United States, Germany, Australia' 'Australia, France, Ireland'\n",
      " 'Australia, India' 'United States, United Kingdom, Canada, Japan'\n",
      " 'Sweden, United Kingdom, Finland' 'Hong Kong, Taiwan'\n",
      " 'United States, United Kingdom, Spain, South Korea' 'Guatemala' 'Ukraine'\n",
      " 'Italy, South Africa, West Germany, Australia, United States'\n",
      " 'United States, Germany, United Kingdom, Australia'\n",
      " 'Italy, France, Switzerland' 'Canada, France, United States'\n",
      " 'Switzerland, United States' 'Thailand, Canada, United States'\n",
      " 'China, Hong Kong, United States' 'United Kingdom, New Zealand'\n",
      " 'Czech Republic, United Kingdom, France'\n",
      " 'Australia, United Kingdom, Canada' 'Jamaica, United States'\n",
      " 'Australia, United Kingdom, United States, New Zealand, Italy, France'\n",
      " 'France, United States, Canada'\n",
      " 'United Kingdom, France, Canada, Belgium, United States'\n",
      " 'Denmark, United Kingdom, Sweden' 'United States, Hong Kong'\n",
      " 'United States, Kazakhstan'\n",
      " 'Argentina, France, United States, Germany, Qatar'\n",
      " 'United States, Germany, United Kingdom'\n",
      " 'United States, Germany, United Kingdom, Italy'\n",
      " 'United States, New Zealand, United Kingdom' 'Finland, United States'\n",
      " 'Spain, France, Uruguay' 'France, Canada, United States'\n",
      " 'United States, Canada, China'\n",
      " 'Ireland, Canada, Luxembourg, United States, United Kingdom, Philippines, India'\n",
      " 'United States, Czech Republic, United Kingdom' 'Israel, Germany'\n",
      " 'Mexico, France'\n",
      " 'Israel, Germany, Poland, Luxembourg, Belgium, France, United States'\n",
      " 'Austria, United States' 'United Kingdom, Lithuania'\n",
      " 'United States, Greece, United Kingdom'\n",
      " 'United Kingdom, China, United States, India'\n",
      " 'United States, Sweden, Norway' 'United Kingdom, United States, Morocco'\n",
      " 'United States, United Kingdom, Morocco' 'Spain, Canada, United States'\n",
      " 'United States, India, United Arab Emirates'\n",
      " 'United Kingdom, Canada, France, United States' 'India, Germany, France'\n",
      " 'Belgium, Ireland, Netherlands, Germany, Afghanistan'\n",
      " 'France, Canada, Italy, United States, China'\n",
      " 'Ireland, United Kingdom, Greece, France, Netherlands'\n",
      " 'Denmark, Indonesia, Finland, Norway, United Kingdom, Israel, France, United States, Germany, Netherlands'\n",
      " 'New Zealand, United States'\n",
      " 'United States, Australia, South Africa, United Kingdom'\n",
      " 'United States, Germany, Mexico'\n",
      " 'Somalia, Kenya, Sudan, South Africa, United States'\n",
      " 'United States, Canada, Japan, Panama' 'United Kingdom, Spain, Belgium'\n",
      " 'Serbia, South Korea, Slovenia'\n",
      " 'Denmark, United Kingdom, South Africa, Sweden, Belgium'\n",
      " 'Germany, Canada, United States'\n",
      " 'Ireland, Canada, United States, United Kingdom'\n",
      " 'New Zealand, United Kingdom, Australia'\n",
      " 'United Kingdom, Australia, Canada, United States'\n",
      " 'Germany, United States, Italy' 'United States, Venezuela'\n",
      " 'United Kingdom, Canada, Japan'\n",
      " 'United Kingdom, United States, Czech Republic'\n",
      " 'United Kingdom, China, United States' 'United Kingdom, Brazil, Germany'\n",
      " 'United Kingdom, Namibia, South Africa, Zimbabwe, United States'\n",
      " 'Canada, United States, India, United Kingdom'\n",
      " 'Switzerland, United Kingdom, United States'\n",
      " 'United Kingdom, India, Sweden'\n",
      " 'United States, Brazil, India, Uganda, China'\n",
      " 'Peru, United States, United Kingdom'\n",
      " 'Germany, United States, United Kingdom, Canada'\n",
      " 'Canada, India, Thailand, United States, United Arab Emirates'\n",
      " 'United States, East Germany, West Germany'\n",
      " 'France, Netherlands, South Africa, Finland'\n",
      " 'Egypt, Austria, United States' 'Russia, Spain'\n",
      " 'Croatia, Slovenia, Serbia, Montenegro' 'Japan, Canada'\n",
      " 'United States, France, South Korea, Indonesia'\n",
      " 'United Arab Emirates, Jordan']\n",
      "unique values in this column is rating is contain \n",
      " ['PG-13' 'TV-MA' 'PG' 'TV-14' 'TV-PG' 'TV-Y' 'TV-Y7' 'R' 'TV-G' 'G'\n",
      " 'NC-17' '74 min' '84 min' '66 min' 'NR' nan 'TV-Y7-FV' 'UR' 'A']\n"
     ]
    }
   ],
   "source": [
    "columns = [\"type\", \"country\", \"rating\"]\n",
    "for col in columns:\n",
    "    print(f\"unique values in this column is {col} is contain \\n {data[col].unique()}\")"
   ]
  },
  {
   "cell_type": "code",
   "execution_count": 45,
   "metadata": {},
   "outputs": [
    {
     "data": {
      "text/plain": [
       "<Axes: xlabel='release_year'>"
      ]
     },
     "execution_count": 45,
     "metadata": {},
     "output_type": "execute_result"
    },
    {
     "data": {
      "image/png": "[encoded data removed]",
      "text/plain": [
       "<Figure size 640x480 with 1 Axes>"
      ]
     },
     "metadata": {},
     "output_type": "display_data"
    }
   ],
   "source": [
    "data.release_year.value_counts().sort_index().plot()"
   ]
  },
  {
   "cell_type": "code",
   "execution_count": 46,
   "metadata": {},
   "outputs": [
    {
     "data": {
      "text/plain": [
       "<Axes: xlabel='date_added'>"
      ]
     },
     "execution_count": 46,
     "metadata": {},
     "output_type": "execute_result"
    },
    {
     "data": {
      "image/png": "[encoded data removed]",
      "text/plain": [
       "<Figure size 640x480 with 1 Axes>"
      ]
     },
     "metadata": {},
     "output_type": "display_data"
    }
   ],
   "source": [
    "data.date_added.dt.year.value_counts().sort_index().plot()"
   ]
  },
  {
   "cell_type": "code",
   "execution_count": 50,
   "metadata": {},
   "outputs": [
    {
     "data": {
      "image/png": "[encoded data removed]",
      "text/plain": [
       "<Figure size 640x480 with 1 Axes>"
      ]
     },
     "metadata": {},
     "output_type": "display_data"
    }
   ],
   "source": [
    "ax = data.country.value_counts().nlargest(5).sort_values(ascending=True).plot(kind='barh', color=\"lightgray\")\n",
    "bars = ax.patches\n",
    "bars[-1].set_facecolor('#004c99')"
   ]
  },
  {
   "cell_type": "code",
   "execution_count": 51,
   "metadata": {},
   "outputs": [
    {
     "data": {
      "text/plain": [
       "<Axes: >"
      ]
     },
     "execution_count": 51,
     "metadata": {},
     "output_type": "execute_result"
    },
    {
     "data": {
      "image/png": "[encoded data removed]",
      "text/plain": [
       "<Figure size 640x480 with 1 Axes>"
      ]
     },
     "metadata": {},
     "output_type": "display_data"
    }
   ],
   "source": [
    "index = []\n",
    "row = []\n",
    "for c in ['United States', 'India', 'United Kingdom', 'Japan', 'South Korea'][::-1]:\n",
    "  cnt = data[data.country == c].type.value_counts()  \n",
    "  total = cnt['Movie'] + cnt['TV Show']\n",
    "  index.append(c)\n",
    "  row.append([cnt['Movie']/total*100, cnt['TV Show']/total*100,] )\n",
    "cnt = pd.DataFrame(row, columns=['Movie', 'TV Show'], index=index)\n",
    "cnt.plot(kind='barh', stacked=True)"
   ]
  },
  {
   "cell_type": "code",
   "execution_count": 53,
   "metadata": {},
   "outputs": [
    {
     "data": {
      "text/plain": [
       "<Axes: ylabel='rating'>"
      ]
     },
     "execution_count": 53,
     "metadata": {},
     "output_type": "execute_result"
    },
    {
     "data": {
      "image/png": "[encoded data removed]",
      "text/plain": [
       "<Figure size 640x480 with 1 Axes>"
      ]
     },
     "metadata": {},
     "output_type": "display_data"
    }
   ],
   "source": [
    "data.rating.value_counts().sort_values().plot(kind='barh')"
   ]
  },
  {
   "cell_type": "code",
   "execution_count": 55,
   "metadata": {},
   "outputs": [
    {
     "data": {
      "text/plain": [
       "<Axes: ylabel='Frequency'>"
      ]
     },
     "execution_count": 55,
     "metadata": {},
     "output_type": "execute_result"
    },
    {
     "data": {
      "image/png": "[encoded data removed]",
      "text/plain": [
       "<Figure size 640x480 with 1 Axes>"
      ]
     },
     "metadata": {},
     "output_type": "display_data"
    }
   ],
   "source": [
    "movie = data[data.type=='Movie'].copy()\n",
    "movie.duration = movie.duration.str.split(expand=True)[0]\n",
    "movie.duration = pd.to_numeric(movie.duration)\n",
    "movie.duration.plot(kind='hist')"
   ]
  },
  {
   "cell_type": "code",
   "execution_count": 56,
   "metadata": {},
   "outputs": [
    {
     "data": {
      "text/plain": [
       "<Axes: xlabel='len_cat'>"
      ]
     },
     "execution_count": 56,
     "metadata": {},
     "output_type": "execute_result"
    },
    {
     "data": {
      "image/png": "[encoded data removed]",
      "text/plain": [
       "<Figure size 640x480 with 1 Axes>"
      ]
     },
     "metadata": {},
     "output_type": "display_data"
    }
   ],
   "source": [
    "def len_cat(x):\n",
    "    if x <= 60:\n",
    "        return \"1\"\n",
    "    elif x <= 90:\n",
    "        return \"1.5\"\n",
    "    elif x <= 120:\n",
    "        return \"2\"\n",
    "    elif x <= 180:\n",
    "        return \"3\"\n",
    "    else:\n",
    "        return \">3\"\n",
    "movie['len_cat'] = movie.duration.apply(len_cat)\n",
    "movie['len_cat'].value_counts().plot(kind='bar')"
   ]
  },
  {
   "cell_type": "code",
   "execution_count": 58,
   "metadata": {},
   "outputs": [
    {
     "data": {
      "text/html": [
       "<div>\n",
       "<style scoped>\n",
       "    .dataframe tbody tr th:only-of-type {\n",
       "        vertical-align: middle;\n",
       "    }\n",
       "\n",
       "    .dataframe tbody tr th {\n",
       "        vertical-align: top;\n",
       "    }\n",
       "\n",
       "    .dataframe thead th {\n",
       "        text-align: right;\n",
       "    }\n",
       "</style>\n",
       "<table border=\"1\" class=\"dataframe\">\n",
       "  <thead>\n",
       "    <tr style=\"text-align: right;\">\n",
       "      <th></th>\n",
       "      <th>director</th>\n",
       "      <th>count</th>\n",
       "    </tr>\n",
       "  </thead>\n",
       "  <tbody>\n",
       "    <tr>\n",
       "      <th>0</th>\n",
       "      <td>Rajiv Chilaka</td>\n",
       "      <td>19</td>\n",
       "    </tr>\n",
       "    <tr>\n",
       "      <th>1</th>\n",
       "      <td>RaÃºl Campos, Jan Suter</td>\n",
       "      <td>18</td>\n",
       "    </tr>\n",
       "    <tr>\n",
       "      <th>2</th>\n",
       "      <td>Marcus Raboy</td>\n",
       "      <td>16</td>\n",
       "    </tr>\n",
       "    <tr>\n",
       "      <th>3</th>\n",
       "      <td>Suhas Kadav</td>\n",
       "      <td>16</td>\n",
       "    </tr>\n",
       "    <tr>\n",
       "      <th>4</th>\n",
       "      <td>Jay Karas</td>\n",
       "      <td>14</td>\n",
       "    </tr>\n",
       "    <tr>\n",
       "      <th>5</th>\n",
       "      <td>Cathy Garcia-Molina</td>\n",
       "      <td>13</td>\n",
       "    </tr>\n",
       "    <tr>\n",
       "      <th>6</th>\n",
       "      <td>Youssef Chahine</td>\n",
       "      <td>12</td>\n",
       "    </tr>\n",
       "    <tr>\n",
       "      <th>7</th>\n",
       "      <td>Martin Scorsese</td>\n",
       "      <td>12</td>\n",
       "    </tr>\n",
       "    <tr>\n",
       "      <th>8</th>\n",
       "      <td>Jay Chapman</td>\n",
       "      <td>12</td>\n",
       "    </tr>\n",
       "    <tr>\n",
       "      <th>9</th>\n",
       "      <td>Steven Spielberg</td>\n",
       "      <td>11</td>\n",
       "    </tr>\n",
       "  </tbody>\n",
       "</table>\n",
       "</div>"
      ],
      "text/plain": [
       "                  director  count\n",
       "0            Rajiv Chilaka     19\n",
       "1  RaÃºl Campos, Jan Suter     18\n",
       "2             Marcus Raboy     16\n",
       "3              Suhas Kadav     16\n",
       "4                Jay Karas     14\n",
       "5      Cathy Garcia-Molina     13\n",
       "6          Youssef Chahine     12\n",
       "7          Martin Scorsese     12\n",
       "8              Jay Chapman     12\n",
       "9         Steven Spielberg     11"
      ]
     },
     "execution_count": 58,
     "metadata": {},
     "output_type": "execute_result"
    }
   ],
   "source": [
    "director = data.director.value_counts().nlargest(10).to_frame().reset_index()\n",
    "director"
   ]
  },
  {
   "cell_type": "code",
   "execution_count": 59,
   "metadata": {},
   "outputs": [
    {
     "data": {
      "text/plain": [
       "<bound method NDFrame.head of                   director  count        country\n",
       "0            Rajiv Chilaka     19          India\n",
       "1  RaÃºl Campos, Jan Suter     18         Mexico\n",
       "2             Marcus Raboy     16  United States\n",
       "3              Suhas Kadav     16          India\n",
       "4                Jay Karas     14  United States\n",
       "5      Cathy Garcia-Molina     13    Philippines\n",
       "6          Youssef Chahine     12          Egypt\n",
       "7          Martin Scorsese     12  United States\n",
       "8              Jay Chapman     12  United States\n",
       "9         Steven Spielberg     11  United States>"
      ]
     },
     "execution_count": 59,
     "metadata": {},
     "output_type": "execute_result"
    }
   ],
   "source": [
    "(\n",
    "    director\n",
    "    .merge( data.dropna(subset='country').drop_duplicates(subset='director'), how='left', on='director')[['director','count','country']].head\n",
    ")"
   ]
  },
  {
   "cell_type": "code",
   "execution_count": 61,
   "metadata": {},
   "outputs": [],
   "source": [
    "data.to_csv(\"Netflix.csv\")"
   ]
  },
  {
   "cell_type": "code",
   "execution_count": null,
   "metadata": {},
   "outputs": [],
   "source": []
  }
 ],
 "metadata": {
  "kernelspec": {
   "display_name": "projects_env",
   "language": "python",
   "name": "python3"
  },
  "language_info": {
   "codemirror_mode": {
    "name": "ipython",
    "version": 3
   },
   "file_extension": ".py",
   "mimetype": "text/x-python",
   "name": "python",
   "nbconvert_exporter": "python",
   "pygments_lexer": "ipython3",
   "version": "3.10.12"
  }
 },
 "nbformat": 4,
 "nbformat_minor": 2
}
